{
 "cells": [
  {
   "cell_type": "markdown",
   "id": "7171f2a7",
   "metadata": {},
   "source": [
    "### In this section we will dive into the Exploratory data analysis step. Mostly Data cleaning. As we have two data sets in our hands, we have to combine them and match the columns for each data. Let's go ahead"
   ]
  },
  {
   "cell_type": "code",
   "execution_count": 1,
   "id": "fd906ee9",
   "metadata": {},
   "outputs": [],
   "source": [
    "import numpy as np\n",
    "import pandas as pd\n",
    "import matplotlib.pyplot as plt\n",
    "import scipy.stats as stats"
   ]
  },
  {
   "cell_type": "code",
   "execution_count": 2,
   "id": "68b93c69",
   "metadata": {},
   "outputs": [],
   "source": [
    "data_1=pd.read_csv(\"/home/angelo/Desktop/THINKFUL DATA SCIENCE FLEX/Graded Assignment/Final Capstone Project/v5_Latest_Data_Science_Salaries.csv\")"
   ]
  },
  {
   "cell_type": "code",
   "execution_count": 3,
   "id": "393643b1",
   "metadata": {},
   "outputs": [],
   "source": [
    "data_2=pd.read_csv(\"/home/angelo/Desktop/THINKFUL DATA SCIENCE FLEX/Graded Assignment/Final Capstone Project/global_ai_ml_data_salaries.csv\")"
   ]
  },
  {
   "cell_type": "markdown",
   "id": "95876fbb",
   "metadata": {},
   "source": [
    "## 1. Data cleaning and preprocessing"
   ]
  },
  {
   "cell_type": "markdown",
   "id": "f059a06b",
   "metadata": {},
   "source": [
    "#### Information about the two data sets including the and names of columns."
   ]
  },
  {
   "cell_type": "code",
   "execution_count": 4,
   "id": "f70f784a",
   "metadata": {},
   "outputs": [
    {
     "name": "stdout",
     "output_type": "stream",
     "text": [
      "<class 'pandas.core.frame.DataFrame'>\n",
      "RangeIndex: 3951 entries, 0 to 3950\n",
      "Data columns (total 11 columns):\n",
      " #   Column              Non-Null Count  Dtype \n",
      "---  ------              --------------  ----- \n",
      " 0   Job Title           3951 non-null   object\n",
      " 1   Employment Type     3951 non-null   object\n",
      " 2   Experience Level    3951 non-null   object\n",
      " 3   Expertise Level     3951 non-null   object\n",
      " 4   Salary              3951 non-null   int64 \n",
      " 5   Salary Currency     3951 non-null   object\n",
      " 6   Company Location    3951 non-null   object\n",
      " 7   Salary in USD       3951 non-null   int64 \n",
      " 8   Employee Residence  3951 non-null   object\n",
      " 9   Company Size        3951 non-null   object\n",
      " 10  Year                3951 non-null   int64 \n",
      "dtypes: int64(3), object(8)\n",
      "memory usage: 339.7+ KB\n"
     ]
    }
   ],
   "source": [
    "data_1.info()"
   ]
  },
  {
   "cell_type": "code",
   "execution_count": 5,
   "id": "6d3a7696",
   "metadata": {},
   "outputs": [
    {
     "data": {
      "text/html": [
       "<div>\n",
       "<style scoped>\n",
       "    .dataframe tbody tr th:only-of-type {\n",
       "        vertical-align: middle;\n",
       "    }\n",
       "\n",
       "    .dataframe tbody tr th {\n",
       "        vertical-align: top;\n",
       "    }\n",
       "\n",
       "    .dataframe thead th {\n",
       "        text-align: right;\n",
       "    }\n",
       "</style>\n",
       "<table border=\"1\" class=\"dataframe\">\n",
       "  <thead>\n",
       "    <tr style=\"text-align: right;\">\n",
       "      <th></th>\n",
       "      <th>Job Title</th>\n",
       "      <th>Employment Type</th>\n",
       "      <th>Experience Level</th>\n",
       "      <th>Expertise Level</th>\n",
       "      <th>Salary</th>\n",
       "      <th>Salary Currency</th>\n",
       "      <th>Company Location</th>\n",
       "      <th>Salary in USD</th>\n",
       "      <th>Employee Residence</th>\n",
       "      <th>Company Size</th>\n",
       "      <th>Year</th>\n",
       "    </tr>\n",
       "  </thead>\n",
       "  <tbody>\n",
       "    <tr>\n",
       "      <th>0</th>\n",
       "      <td>Staff Data Analyst</td>\n",
       "      <td>Contract</td>\n",
       "      <td>Entry</td>\n",
       "      <td>Junior</td>\n",
       "      <td>60000</td>\n",
       "      <td>Canadian Dollar</td>\n",
       "      <td>Canada</td>\n",
       "      <td>44753</td>\n",
       "      <td>Canada</td>\n",
       "      <td>Large</td>\n",
       "      <td>2020</td>\n",
       "    </tr>\n",
       "    <tr>\n",
       "      <th>1</th>\n",
       "      <td>AI Engineer</td>\n",
       "      <td>Full-Time</td>\n",
       "      <td>Entry</td>\n",
       "      <td>Junior</td>\n",
       "      <td>35000</td>\n",
       "      <td>United States Dollar</td>\n",
       "      <td>Germany</td>\n",
       "      <td>35000</td>\n",
       "      <td>Croatia</td>\n",
       "      <td>Medium</td>\n",
       "      <td>2023</td>\n",
       "    </tr>\n",
       "    <tr>\n",
       "      <th>2</th>\n",
       "      <td>AI Developer</td>\n",
       "      <td>Full-Time</td>\n",
       "      <td>Senior</td>\n",
       "      <td>Expert</td>\n",
       "      <td>50000</td>\n",
       "      <td>Euro</td>\n",
       "      <td>Italy</td>\n",
       "      <td>53984</td>\n",
       "      <td>Italy</td>\n",
       "      <td>Small</td>\n",
       "      <td>2023</td>\n",
       "    </tr>\n",
       "    <tr>\n",
       "      <th>3</th>\n",
       "      <td>Machine Learning Engineer</td>\n",
       "      <td>Full-Time</td>\n",
       "      <td>Senior</td>\n",
       "      <td>Expert</td>\n",
       "      <td>226600</td>\n",
       "      <td>United States Dollar</td>\n",
       "      <td>United States</td>\n",
       "      <td>226600</td>\n",
       "      <td>United States</td>\n",
       "      <td>Medium</td>\n",
       "      <td>2023</td>\n",
       "    </tr>\n",
       "    <tr>\n",
       "      <th>4</th>\n",
       "      <td>Machine Learning Engineer</td>\n",
       "      <td>Full-Time</td>\n",
       "      <td>Senior</td>\n",
       "      <td>Expert</td>\n",
       "      <td>140100</td>\n",
       "      <td>United States Dollar</td>\n",
       "      <td>United States</td>\n",
       "      <td>140100</td>\n",
       "      <td>United States</td>\n",
       "      <td>Medium</td>\n",
       "      <td>2023</td>\n",
       "    </tr>\n",
       "  </tbody>\n",
       "</table>\n",
       "</div>"
      ],
      "text/plain": [
       "                   Job Title Employment Type Experience Level Expertise Level  \\\n",
       "0         Staff Data Analyst        Contract            Entry          Junior   \n",
       "1                AI Engineer       Full-Time            Entry          Junior   \n",
       "2               AI Developer       Full-Time           Senior          Expert   \n",
       "3  Machine Learning Engineer       Full-Time           Senior          Expert   \n",
       "4  Machine Learning Engineer       Full-Time           Senior          Expert   \n",
       "\n",
       "   Salary       Salary Currency Company Location  Salary in USD  \\\n",
       "0   60000       Canadian Dollar           Canada          44753   \n",
       "1   35000  United States Dollar          Germany          35000   \n",
       "2   50000                  Euro            Italy          53984   \n",
       "3  226600  United States Dollar    United States         226600   \n",
       "4  140100  United States Dollar    United States         140100   \n",
       "\n",
       "  Employee Residence Company Size  Year  \n",
       "0             Canada        Large  2020  \n",
       "1            Croatia       Medium  2023  \n",
       "2              Italy        Small  2023  \n",
       "3      United States       Medium  2023  \n",
       "4      United States       Medium  2023  "
      ]
     },
     "execution_count": 5,
     "metadata": {},
     "output_type": "execute_result"
    }
   ],
   "source": [
    "data_1.head()"
   ]
  },
  {
   "cell_type": "code",
   "execution_count": 6,
   "id": "01974b39",
   "metadata": {},
   "outputs": [
    {
     "name": "stdout",
     "output_type": "stream",
     "text": [
      "<class 'pandas.core.frame.DataFrame'>\n",
      "RangeIndex: 34422 entries, 0 to 34421\n",
      "Data columns (total 11 columns):\n",
      " #   Column              Non-Null Count  Dtype \n",
      "---  ------              --------------  ----- \n",
      " 0   work_year           34422 non-null  int64 \n",
      " 1   experience_level    34422 non-null  object\n",
      " 2   employment_type     34422 non-null  object\n",
      " 3   job_title           34422 non-null  object\n",
      " 4   salary              34422 non-null  int64 \n",
      " 5   salary_currency     34422 non-null  object\n",
      " 6   salary_in_usd       34422 non-null  int64 \n",
      " 7   employee_residence  34422 non-null  object\n",
      " 8   remote_ratio        34422 non-null  int64 \n",
      " 9   company_location    34422 non-null  object\n",
      " 10  company_size        34422 non-null  object\n",
      "dtypes: int64(4), object(7)\n",
      "memory usage: 2.9+ MB\n"
     ]
    }
   ],
   "source": [
    "data_2.info()"
   ]
  },
  {
   "cell_type": "code",
   "execution_count": 7,
   "id": "68f9fea2",
   "metadata": {},
   "outputs": [
    {
     "data": {
      "text/html": [
       "<div>\n",
       "<style scoped>\n",
       "    .dataframe tbody tr th:only-of-type {\n",
       "        vertical-align: middle;\n",
       "    }\n",
       "\n",
       "    .dataframe tbody tr th {\n",
       "        vertical-align: top;\n",
       "    }\n",
       "\n",
       "    .dataframe thead th {\n",
       "        text-align: right;\n",
       "    }\n",
       "</style>\n",
       "<table border=\"1\" class=\"dataframe\">\n",
       "  <thead>\n",
       "    <tr style=\"text-align: right;\">\n",
       "      <th></th>\n",
       "      <th>work_year</th>\n",
       "      <th>experience_level</th>\n",
       "      <th>employment_type</th>\n",
       "      <th>job_title</th>\n",
       "      <th>salary</th>\n",
       "      <th>salary_currency</th>\n",
       "      <th>salary_in_usd</th>\n",
       "      <th>employee_residence</th>\n",
       "      <th>remote_ratio</th>\n",
       "      <th>company_location</th>\n",
       "      <th>company_size</th>\n",
       "    </tr>\n",
       "  </thead>\n",
       "  <tbody>\n",
       "    <tr>\n",
       "      <th>0</th>\n",
       "      <td>2024</td>\n",
       "      <td>EN</td>\n",
       "      <td>FT</td>\n",
       "      <td>Data Analyst</td>\n",
       "      <td>170186</td>\n",
       "      <td>USD</td>\n",
       "      <td>170186</td>\n",
       "      <td>US</td>\n",
       "      <td>0</td>\n",
       "      <td>US</td>\n",
       "      <td>M</td>\n",
       "    </tr>\n",
       "    <tr>\n",
       "      <th>1</th>\n",
       "      <td>2024</td>\n",
       "      <td>EN</td>\n",
       "      <td>FT</td>\n",
       "      <td>Data Analyst</td>\n",
       "      <td>170186</td>\n",
       "      <td>USD</td>\n",
       "      <td>170186</td>\n",
       "      <td>US</td>\n",
       "      <td>0</td>\n",
       "      <td>US</td>\n",
       "      <td>M</td>\n",
       "    </tr>\n",
       "    <tr>\n",
       "      <th>2</th>\n",
       "      <td>2024</td>\n",
       "      <td>MI</td>\n",
       "      <td>FT</td>\n",
       "      <td>Data Engineer</td>\n",
       "      <td>161000</td>\n",
       "      <td>USD</td>\n",
       "      <td>161000</td>\n",
       "      <td>US</td>\n",
       "      <td>0</td>\n",
       "      <td>US</td>\n",
       "      <td>M</td>\n",
       "    </tr>\n",
       "    <tr>\n",
       "      <th>3</th>\n",
       "      <td>2024</td>\n",
       "      <td>MI</td>\n",
       "      <td>FT</td>\n",
       "      <td>Data Engineer</td>\n",
       "      <td>119000</td>\n",
       "      <td>USD</td>\n",
       "      <td>119000</td>\n",
       "      <td>US</td>\n",
       "      <td>0</td>\n",
       "      <td>US</td>\n",
       "      <td>M</td>\n",
       "    </tr>\n",
       "    <tr>\n",
       "      <th>4</th>\n",
       "      <td>2024</td>\n",
       "      <td>MI</td>\n",
       "      <td>FT</td>\n",
       "      <td>Data Scientist</td>\n",
       "      <td>170186</td>\n",
       "      <td>USD</td>\n",
       "      <td>170186</td>\n",
       "      <td>US</td>\n",
       "      <td>0</td>\n",
       "      <td>US</td>\n",
       "      <td>M</td>\n",
       "    </tr>\n",
       "  </tbody>\n",
       "</table>\n",
       "</div>"
      ],
      "text/plain": [
       "   work_year experience_level employment_type       job_title  salary  \\\n",
       "0       2024               EN              FT    Data Analyst  170186   \n",
       "1       2024               EN              FT    Data Analyst  170186   \n",
       "2       2024               MI              FT   Data Engineer  161000   \n",
       "3       2024               MI              FT   Data Engineer  119000   \n",
       "4       2024               MI              FT  Data Scientist  170186   \n",
       "\n",
       "  salary_currency  salary_in_usd employee_residence  remote_ratio  \\\n",
       "0             USD         170186                 US             0   \n",
       "1             USD         170186                 US             0   \n",
       "2             USD         161000                 US             0   \n",
       "3             USD         119000                 US             0   \n",
       "4             USD         170186                 US             0   \n",
       "\n",
       "  company_location company_size  \n",
       "0               US            M  \n",
       "1               US            M  \n",
       "2               US            M  \n",
       "3               US            M  \n",
       "4               US            M  "
      ]
     },
     "execution_count": 7,
     "metadata": {},
     "output_type": "execute_result"
    }
   ],
   "source": [
    "data_2.head()"
   ]
  },
  {
   "cell_type": "markdown",
   "id": "e4382885",
   "metadata": {},
   "source": [
    "##### There is an equal number of 11 columns in each dataset. But\n",
    "1. Expertise level appears only in data_1 and remote_ratio appears only in data_2\n",
    "2. Most columns that appear in both data are in different position\n",
    "3. \"remote_ratio\" can just be remove as it is going to be of a significant importance. \"Expetise_level\" can also be removed as it is just the cloned version of experience level"
   ]
  },
  {
   "cell_type": "markdown",
   "id": "1ab963a7",
   "metadata": {},
   "source": [
    "#### Remove the unecessary columns"
   ]
  },
  {
   "cell_type": "code",
   "execution_count": 8,
   "id": "b506c602",
   "metadata": {},
   "outputs": [],
   "source": [
    "data_11=data_1.drop('Expertise Level', axis=1)"
   ]
  },
  {
   "cell_type": "code",
   "execution_count": 9,
   "id": "9a293892",
   "metadata": {},
   "outputs": [],
   "source": [
    "data_22=data_2.drop('remote_ratio', axis=1)"
   ]
  },
  {
   "cell_type": "code",
   "execution_count": null,
   "id": "f5975820",
   "metadata": {},
   "outputs": [],
   "source": []
  },
  {
   "cell_type": "markdown",
   "id": "1f9026a6",
   "metadata": {},
   "source": [
    "#### Rearrange the order of the second data set to match up with the order of the first data"
   ]
  },
  {
   "cell_type": "code",
   "execution_count": 10,
   "id": "8b43768c",
   "metadata": {},
   "outputs": [
    {
     "data": {
      "text/plain": [
       "Index(['Job Title', 'Employment Type', 'Experience Level', 'Salary',\n",
       "       'Salary Currency', 'Company Location', 'Salary in USD',\n",
       "       'Employee Residence', 'Company Size', 'Year'],\n",
       "      dtype='object')"
      ]
     },
     "execution_count": 10,
     "metadata": {},
     "output_type": "execute_result"
    }
   ],
   "source": [
    "data_11.columns"
   ]
  },
  {
   "cell_type": "code",
   "execution_count": 11,
   "id": "7bb61c72",
   "metadata": {},
   "outputs": [
    {
     "data": {
      "text/plain": [
       "Index(['work_year', 'experience_level', 'employment_type', 'job_title',\n",
       "       'salary', 'salary_currency', 'salary_in_usd', 'employee_residence',\n",
       "       'company_location', 'company_size'],\n",
       "      dtype='object')"
      ]
     },
     "execution_count": 11,
     "metadata": {},
     "output_type": "execute_result"
    }
   ],
   "source": [
    "data_22.columns"
   ]
  },
  {
   "cell_type": "code",
   "execution_count": 12,
   "id": "81ef59c2",
   "metadata": {},
   "outputs": [],
   "source": [
    "new_order = ['job_title', 'employment_type', 'experience_level', 'salary','salary_currency','company_location','salary_in_usd',\n",
    "            'employee_residence','company_size','work_year']"
   ]
  },
  {
   "cell_type": "code",
   "execution_count": 13,
   "id": "10715d14",
   "metadata": {},
   "outputs": [],
   "source": [
    "data_22=data_22[new_order]"
   ]
  },
  {
   "cell_type": "code",
   "execution_count": 14,
   "id": "137a5e86",
   "metadata": {},
   "outputs": [
    {
     "data": {
      "text/html": [
       "<div>\n",
       "<style scoped>\n",
       "    .dataframe tbody tr th:only-of-type {\n",
       "        vertical-align: middle;\n",
       "    }\n",
       "\n",
       "    .dataframe tbody tr th {\n",
       "        vertical-align: top;\n",
       "    }\n",
       "\n",
       "    .dataframe thead th {\n",
       "        text-align: right;\n",
       "    }\n",
       "</style>\n",
       "<table border=\"1\" class=\"dataframe\">\n",
       "  <thead>\n",
       "    <tr style=\"text-align: right;\">\n",
       "      <th></th>\n",
       "      <th>job_title</th>\n",
       "      <th>employment_type</th>\n",
       "      <th>experience_level</th>\n",
       "      <th>salary</th>\n",
       "      <th>salary_currency</th>\n",
       "      <th>company_location</th>\n",
       "      <th>salary_in_usd</th>\n",
       "      <th>employee_residence</th>\n",
       "      <th>company_size</th>\n",
       "      <th>work_year</th>\n",
       "    </tr>\n",
       "  </thead>\n",
       "  <tbody>\n",
       "    <tr>\n",
       "      <th>0</th>\n",
       "      <td>Data Analyst</td>\n",
       "      <td>FT</td>\n",
       "      <td>EN</td>\n",
       "      <td>170186</td>\n",
       "      <td>USD</td>\n",
       "      <td>US</td>\n",
       "      <td>170186</td>\n",
       "      <td>US</td>\n",
       "      <td>M</td>\n",
       "      <td>2024</td>\n",
       "    </tr>\n",
       "    <tr>\n",
       "      <th>1</th>\n",
       "      <td>Data Analyst</td>\n",
       "      <td>FT</td>\n",
       "      <td>EN</td>\n",
       "      <td>170186</td>\n",
       "      <td>USD</td>\n",
       "      <td>US</td>\n",
       "      <td>170186</td>\n",
       "      <td>US</td>\n",
       "      <td>M</td>\n",
       "      <td>2024</td>\n",
       "    </tr>\n",
       "  </tbody>\n",
       "</table>\n",
       "</div>"
      ],
      "text/plain": [
       "      job_title employment_type experience_level  salary salary_currency  \\\n",
       "0  Data Analyst              FT               EN  170186             USD   \n",
       "1  Data Analyst              FT               EN  170186             USD   \n",
       "\n",
       "  company_location  salary_in_usd employee_residence company_size  work_year  \n",
       "0               US         170186                 US            M       2024  \n",
       "1               US         170186                 US            M       2024  "
      ]
     },
     "execution_count": 14,
     "metadata": {},
     "output_type": "execute_result"
    }
   ],
   "source": [
    "data_22.head(2)"
   ]
  },
  {
   "cell_type": "code",
   "execution_count": null,
   "id": "ae1369f8",
   "metadata": {},
   "outputs": [],
   "source": []
  },
  {
   "cell_type": "markdown",
   "id": "c14c3634",
   "metadata": {},
   "source": [
    "#### Rename the column of the first data set and have the same column names in the two data"
   ]
  },
  {
   "cell_type": "code",
   "execution_count": 15,
   "id": "2f2bbca9",
   "metadata": {},
   "outputs": [],
   "source": [
    "data_11 = data_11.rename(columns={'Job Title': 'job_title', 'Employment Type': 'employment_type', 'Experience Level': 'experience_level', 'Salary': 'salary',\n",
    "                                  'Salary Currency': 'salary_currency', 'Company Location': 'company_location',\n",
    "                                 'Salary in USD': 'salary_in_usd', 'Employee Residence': 'employee_residence', 'Company Size': 'company_size','Year':'work_year'})\n"
   ]
  },
  {
   "cell_type": "code",
   "execution_count": 16,
   "id": "54ed258c",
   "metadata": {},
   "outputs": [
    {
     "data": {
      "text/plain": [
       "Index(['job_title', 'employment_type', 'experience_level', 'salary',\n",
       "       'salary_currency', 'company_location', 'salary_in_usd',\n",
       "       'employee_residence', 'company_size', 'work_year'],\n",
       "      dtype='object')"
      ]
     },
     "execution_count": 16,
     "metadata": {},
     "output_type": "execute_result"
    }
   ],
   "source": [
    "data_11.columns"
   ]
  },
  {
   "cell_type": "code",
   "execution_count": null,
   "id": "90144cc3",
   "metadata": {},
   "outputs": [],
   "source": []
  },
  {
   "cell_type": "markdown",
   "id": "8249707b",
   "metadata": {},
   "source": [
    "#### Merge the two Data sets"
   ]
  },
  {
   "cell_type": "code",
   "execution_count": 17,
   "id": "c227776e",
   "metadata": {},
   "outputs": [
    {
     "name": "stdout",
     "output_type": "stream",
     "text": [
      "(3951, 10)\n",
      "(34422, 10)\n"
     ]
    }
   ],
   "source": [
    "print(data_11.shape)\n",
    "print(data_22.shape)"
   ]
  },
  {
   "cell_type": "code",
   "execution_count": 18,
   "id": "e8afc4de",
   "metadata": {},
   "outputs": [],
   "source": [
    "#salary_data=pd.merge(data_11, data_22, how='inner')"
   ]
  },
  {
   "cell_type": "code",
   "execution_count": 19,
   "id": "ae977b2d",
   "metadata": {},
   "outputs": [
    {
     "name": "stderr",
     "output_type": "stream",
     "text": [
      "/tmp/ipykernel_6449/1556185808.py:1: FutureWarning: The frame.append method is deprecated and will be removed from pandas in a future version. Use pandas.concat instead.\n",
      "  salary_data = data_11.append(data_22, ignore_index=True)\n"
     ]
    }
   ],
   "source": [
    "salary_data = data_11.append(data_22, ignore_index=True)\n"
   ]
  },
  {
   "cell_type": "code",
   "execution_count": 20,
   "id": "4d71c2cb",
   "metadata": {},
   "outputs": [
    {
     "data": {
      "text/html": [
       "<div>\n",
       "<style scoped>\n",
       "    .dataframe tbody tr th:only-of-type {\n",
       "        vertical-align: middle;\n",
       "    }\n",
       "\n",
       "    .dataframe tbody tr th {\n",
       "        vertical-align: top;\n",
       "    }\n",
       "\n",
       "    .dataframe thead th {\n",
       "        text-align: right;\n",
       "    }\n",
       "</style>\n",
       "<table border=\"1\" class=\"dataframe\">\n",
       "  <thead>\n",
       "    <tr style=\"text-align: right;\">\n",
       "      <th></th>\n",
       "      <th>job_title</th>\n",
       "      <th>employment_type</th>\n",
       "      <th>experience_level</th>\n",
       "      <th>salary</th>\n",
       "      <th>salary_currency</th>\n",
       "      <th>company_location</th>\n",
       "      <th>salary_in_usd</th>\n",
       "      <th>employee_residence</th>\n",
       "      <th>company_size</th>\n",
       "      <th>work_year</th>\n",
       "    </tr>\n",
       "  </thead>\n",
       "  <tbody>\n",
       "    <tr>\n",
       "      <th>0</th>\n",
       "      <td>Staff Data Analyst</td>\n",
       "      <td>Contract</td>\n",
       "      <td>Entry</td>\n",
       "      <td>60000</td>\n",
       "      <td>Canadian Dollar</td>\n",
       "      <td>Canada</td>\n",
       "      <td>44753</td>\n",
       "      <td>Canada</td>\n",
       "      <td>Large</td>\n",
       "      <td>2020</td>\n",
       "    </tr>\n",
       "    <tr>\n",
       "      <th>1</th>\n",
       "      <td>AI Engineer</td>\n",
       "      <td>Full-Time</td>\n",
       "      <td>Entry</td>\n",
       "      <td>35000</td>\n",
       "      <td>United States Dollar</td>\n",
       "      <td>Germany</td>\n",
       "      <td>35000</td>\n",
       "      <td>Croatia</td>\n",
       "      <td>Medium</td>\n",
       "      <td>2023</td>\n",
       "    </tr>\n",
       "    <tr>\n",
       "      <th>2</th>\n",
       "      <td>AI Developer</td>\n",
       "      <td>Full-Time</td>\n",
       "      <td>Senior</td>\n",
       "      <td>50000</td>\n",
       "      <td>Euro</td>\n",
       "      <td>Italy</td>\n",
       "      <td>53984</td>\n",
       "      <td>Italy</td>\n",
       "      <td>Small</td>\n",
       "      <td>2023</td>\n",
       "    </tr>\n",
       "    <tr>\n",
       "      <th>3</th>\n",
       "      <td>Machine Learning Engineer</td>\n",
       "      <td>Full-Time</td>\n",
       "      <td>Senior</td>\n",
       "      <td>226600</td>\n",
       "      <td>United States Dollar</td>\n",
       "      <td>United States</td>\n",
       "      <td>226600</td>\n",
       "      <td>United States</td>\n",
       "      <td>Medium</td>\n",
       "      <td>2023</td>\n",
       "    </tr>\n",
       "    <tr>\n",
       "      <th>4</th>\n",
       "      <td>Machine Learning Engineer</td>\n",
       "      <td>Full-Time</td>\n",
       "      <td>Senior</td>\n",
       "      <td>140100</td>\n",
       "      <td>United States Dollar</td>\n",
       "      <td>United States</td>\n",
       "      <td>140100</td>\n",
       "      <td>United States</td>\n",
       "      <td>Medium</td>\n",
       "      <td>2023</td>\n",
       "    </tr>\n",
       "    <tr>\n",
       "      <th>...</th>\n",
       "      <td>...</td>\n",
       "      <td>...</td>\n",
       "      <td>...</td>\n",
       "      <td>...</td>\n",
       "      <td>...</td>\n",
       "      <td>...</td>\n",
       "      <td>...</td>\n",
       "      <td>...</td>\n",
       "      <td>...</td>\n",
       "      <td>...</td>\n",
       "    </tr>\n",
       "    <tr>\n",
       "      <th>38368</th>\n",
       "      <td>Data Scientist</td>\n",
       "      <td>FT</td>\n",
       "      <td>SE</td>\n",
       "      <td>412000</td>\n",
       "      <td>USD</td>\n",
       "      <td>US</td>\n",
       "      <td>412000</td>\n",
       "      <td>US</td>\n",
       "      <td>L</td>\n",
       "      <td>2020</td>\n",
       "    </tr>\n",
       "    <tr>\n",
       "      <th>38369</th>\n",
       "      <td>Principal Data Scientist</td>\n",
       "      <td>FT</td>\n",
       "      <td>MI</td>\n",
       "      <td>151000</td>\n",
       "      <td>USD</td>\n",
       "      <td>US</td>\n",
       "      <td>151000</td>\n",
       "      <td>US</td>\n",
       "      <td>L</td>\n",
       "      <td>2021</td>\n",
       "    </tr>\n",
       "    <tr>\n",
       "      <th>38370</th>\n",
       "      <td>Data Scientist</td>\n",
       "      <td>FT</td>\n",
       "      <td>EN</td>\n",
       "      <td>105000</td>\n",
       "      <td>USD</td>\n",
       "      <td>US</td>\n",
       "      <td>105000</td>\n",
       "      <td>US</td>\n",
       "      <td>S</td>\n",
       "      <td>2020</td>\n",
       "    </tr>\n",
       "    <tr>\n",
       "      <th>38371</th>\n",
       "      <td>Business Data Analyst</td>\n",
       "      <td>CT</td>\n",
       "      <td>EN</td>\n",
       "      <td>100000</td>\n",
       "      <td>USD</td>\n",
       "      <td>US</td>\n",
       "      <td>100000</td>\n",
       "      <td>US</td>\n",
       "      <td>L</td>\n",
       "      <td>2020</td>\n",
       "    </tr>\n",
       "    <tr>\n",
       "      <th>38372</th>\n",
       "      <td>Data Scientist</td>\n",
       "      <td>FT</td>\n",
       "      <td>SE</td>\n",
       "      <td>7000000</td>\n",
       "      <td>INR</td>\n",
       "      <td>IN</td>\n",
       "      <td>94665</td>\n",
       "      <td>IN</td>\n",
       "      <td>L</td>\n",
       "      <td>2021</td>\n",
       "    </tr>\n",
       "  </tbody>\n",
       "</table>\n",
       "<p>38373 rows × 10 columns</p>\n",
       "</div>"
      ],
      "text/plain": [
       "                       job_title employment_type experience_level   salary  \\\n",
       "0             Staff Data Analyst        Contract            Entry    60000   \n",
       "1                    AI Engineer       Full-Time            Entry    35000   \n",
       "2                   AI Developer       Full-Time           Senior    50000   \n",
       "3      Machine Learning Engineer       Full-Time           Senior   226600   \n",
       "4      Machine Learning Engineer       Full-Time           Senior   140100   \n",
       "...                          ...             ...              ...      ...   \n",
       "38368             Data Scientist              FT               SE   412000   \n",
       "38369   Principal Data Scientist              FT               MI   151000   \n",
       "38370             Data Scientist              FT               EN   105000   \n",
       "38371      Business Data Analyst              CT               EN   100000   \n",
       "38372             Data Scientist              FT               SE  7000000   \n",
       "\n",
       "            salary_currency company_location  salary_in_usd  \\\n",
       "0           Canadian Dollar           Canada          44753   \n",
       "1      United States Dollar          Germany          35000   \n",
       "2                      Euro            Italy          53984   \n",
       "3      United States Dollar    United States         226600   \n",
       "4      United States Dollar    United States         140100   \n",
       "...                     ...              ...            ...   \n",
       "38368                   USD               US         412000   \n",
       "38369                   USD               US         151000   \n",
       "38370                   USD               US         105000   \n",
       "38371                   USD               US         100000   \n",
       "38372                   INR               IN          94665   \n",
       "\n",
       "      employee_residence company_size  work_year  \n",
       "0                 Canada        Large       2020  \n",
       "1                Croatia       Medium       2023  \n",
       "2                  Italy        Small       2023  \n",
       "3          United States       Medium       2023  \n",
       "4          United States       Medium       2023  \n",
       "...                  ...          ...        ...  \n",
       "38368                 US            L       2020  \n",
       "38369                 US            L       2021  \n",
       "38370                 US            S       2020  \n",
       "38371                 US            L       2020  \n",
       "38372                 IN            L       2021  \n",
       "\n",
       "[38373 rows x 10 columns]"
      ]
     },
     "execution_count": 20,
     "metadata": {},
     "output_type": "execute_result"
    }
   ],
   "source": [
    "salary_data"
   ]
  },
  {
   "cell_type": "markdown",
   "id": "90f9d009",
   "metadata": {},
   "source": [
    "Some of the values mean the same thing but they are written differently. For instance \"Full-Time\" and \"FT\" under the employment_type column have the same meaning. However, in the language of data, they are different. We have to find a way to handle all those irregularities."
   ]
  },
  {
   "cell_type": "markdown",
   "id": "fbe4065c",
   "metadata": {},
   "source": [
    "#### Missing values?"
   ]
  },
  {
   "cell_type": "code",
   "execution_count": 21,
   "id": "a5e979df",
   "metadata": {},
   "outputs": [
    {
     "data": {
      "text/plain": [
       "job_title             38373\n",
       "employment_type       38373\n",
       "experience_level      38373\n",
       "salary                38373\n",
       "salary_currency       38373\n",
       "company_location      38373\n",
       "salary_in_usd         38373\n",
       "employee_residence    38373\n",
       "company_size          38373\n",
       "work_year             38373\n",
       "dtype: int64"
      ]
     },
     "execution_count": 21,
     "metadata": {},
     "output_type": "execute_result"
    }
   ],
   "source": [
    "salary_data.isnull().count()"
   ]
  },
  {
   "cell_type": "markdown",
   "id": "4f60d12f",
   "metadata": {},
   "source": [
    "Luckily, there is not missing value."
   ]
  },
  {
   "cell_type": "markdown",
   "id": "29ec4a61",
   "metadata": {},
   "source": [
    "##### The columns \"salary\", salary_in_usd\", \"salary_currency\" and \"work_year\" do not need any further cleaning"
   ]
  },
  {
   "cell_type": "markdown",
   "id": "74590233",
   "metadata": {},
   "source": [
    "#### Let's handle the columns individually"
   ]
  },
  {
   "cell_type": "markdown",
   "id": "1606e576",
   "metadata": {},
   "source": [
    "##### Job title"
   ]
  },
  {
   "cell_type": "code",
   "execution_count": 22,
   "id": "75351f7a",
   "metadata": {},
   "outputs": [
    {
     "data": {
      "text/plain": [
       "Data Scientist                          7853\n",
       "Data Engineer                           6628\n",
       "Data Analyst                            4689\n",
       "Machine Learning Engineer               4209\n",
       "Software Engineer                       2429\n",
       "                                        ... \n",
       "Machine Learning Operations Engineer       1\n",
       "AI Data Scientist                          1\n",
       "Data Engineer 2                            1\n",
       "People Data Analyst                        1\n",
       "Marketing Data Scientist                   1\n",
       "Name: job_title, Length: 223, dtype: int64"
      ]
     },
     "execution_count": 22,
     "metadata": {},
     "output_type": "execute_result"
    }
   ],
   "source": [
    "salary_data.job_title.value_counts()"
   ]
  },
  {
   "cell_type": "markdown",
   "id": "a69d4323",
   "metadata": {},
   "source": [
    "##### Employment type"
   ]
  },
  {
   "cell_type": "markdown",
   "id": "e08a93ca",
   "metadata": {},
   "source": [
    "We are going to replace the values from the second data table with their corresponding values from the first table. Knowing the first data has 3951 rows."
   ]
  },
  {
   "cell_type": "code",
   "execution_count": 23,
   "id": "ee85cbf1",
   "metadata": {},
   "outputs": [
    {
     "data": {
      "text/plain": [
       "Full-Time    3909\n",
       "Contract       18\n",
       "Part-Time      13\n",
       "Freelance      11\n",
       "Name: employment_type, dtype: int64"
      ]
     },
     "execution_count": 23,
     "metadata": {},
     "output_type": "execute_result"
    }
   ],
   "source": [
    "salary_data.employment_type[:3951].value_counts()"
   ]
  },
  {
   "cell_type": "code",
   "execution_count": 24,
   "id": "269b06d0",
   "metadata": {},
   "outputs": [
    {
     "data": {
      "text/plain": [
       "FT    34319\n",
       "PT       50\n",
       "CT       39\n",
       "FL       14\n",
       "Name: employment_type, dtype: int64"
      ]
     },
     "execution_count": 24,
     "metadata": {},
     "output_type": "execute_result"
    }
   ],
   "source": [
    "salary_data.employment_type[3951:].value_counts()"
   ]
  },
  {
   "cell_type": "code",
   "execution_count": 25,
   "id": "74e42b78",
   "metadata": {},
   "outputs": [
    {
     "name": "stderr",
     "output_type": "stream",
     "text": [
      "/tmp/ipykernel_6449/2123923457.py:2: SettingWithCopyWarning: \n",
      "A value is trying to be set on a copy of a slice from a DataFrame\n",
      "\n",
      "See the caveats in the documentation: https://pandas.pydata.org/pandas-docs/stable/user_guide/indexing.html#returning-a-view-versus-a-copy\n",
      "  salary_data.employment_type[3951:]=salary_data.employment_type[3951:].replace({'FT':'Full-Time','CT':'Contract', 'PT':'Part-Time', 'FL':'Freelance'})\n"
     ]
    }
   ],
   "source": [
    "# Replace 'FT' with 'Full-Time','CT' with 'Contract', 'PT'  with 'Part-Time' and 'FL' with 'Freelance'\n",
    "salary_data.employment_type[3951:]=salary_data.employment_type[3951:].replace({'FT':'Full-Time','CT':'Contract', 'PT':'Part-Time', 'FL':'Freelance'})"
   ]
  },
  {
   "cell_type": "code",
   "execution_count": 26,
   "id": "2fda0291",
   "metadata": {},
   "outputs": [
    {
     "data": {
      "text/plain": [
       "0         Contract\n",
       "1        Full-Time\n",
       "2        Full-Time\n",
       "3        Full-Time\n",
       "4        Full-Time\n",
       "           ...    \n",
       "38368    Full-Time\n",
       "38369    Full-Time\n",
       "38370    Full-Time\n",
       "38371     Contract\n",
       "38372    Full-Time\n",
       "Name: employment_type, Length: 38373, dtype: object"
      ]
     },
     "execution_count": 26,
     "metadata": {},
     "output_type": "execute_result"
    }
   ],
   "source": [
    "salary_data.employment_type"
   ]
  },
  {
   "cell_type": "markdown",
   "id": "437afcd0",
   "metadata": {},
   "source": [
    "##### experience_level"
   ]
  },
  {
   "cell_type": "code",
   "execution_count": 27,
   "id": "dfddbe00",
   "metadata": {},
   "outputs": [
    {
     "data": {
      "text/plain": [
       "Senior       2493\n",
       "Mid           954\n",
       "Entry         330\n",
       "Executive     174\n",
       "Name: experience_level, dtype: int64"
      ]
     },
     "execution_count": 27,
     "metadata": {},
     "output_type": "execute_result"
    }
   ],
   "source": [
    "salary_data.experience_level[:3951].value_counts()"
   ]
  },
  {
   "cell_type": "code",
   "execution_count": 28,
   "id": "4621b29b",
   "metadata": {},
   "outputs": [
    {
     "data": {
      "text/plain": [
       "SE    20905\n",
       "MI     9760\n",
       "EN     2985\n",
       "EX      772\n",
       "Name: experience_level, dtype: int64"
      ]
     },
     "execution_count": 28,
     "metadata": {},
     "output_type": "execute_result"
    }
   ],
   "source": [
    "salary_data.experience_level[3951:].value_counts()"
   ]
  },
  {
   "cell_type": "code",
   "execution_count": 29,
   "id": "9d35a836",
   "metadata": {},
   "outputs": [
    {
     "name": "stderr",
     "output_type": "stream",
     "text": [
      "/tmp/ipykernel_6449/4257537965.py:2: SettingWithCopyWarning: \n",
      "A value is trying to be set on a copy of a slice from a DataFrame\n",
      "\n",
      "See the caveats in the documentation: https://pandas.pydata.org/pandas-docs/stable/user_guide/indexing.html#returning-a-view-versus-a-copy\n",
      "  salary_data.experience_level[3951:]=salary_data.experience_level[3951:].replace({'SE':'Senior','MI':'Mid', 'EN':'Entry', 'EX':'Executive'})\n"
     ]
    }
   ],
   "source": [
    "# Replace 'SE' with 'Senior','MI' with 'Mid', 'EN'  with 'Entry' and 'EX' with 'Executive'\n",
    "salary_data.experience_level[3951:]=salary_data.experience_level[3951:].replace({'SE':'Senior','MI':'Mid', 'EN':'Entry', 'EX':'Executive'})"
   ]
  },
  {
   "cell_type": "code",
   "execution_count": 30,
   "id": "7332e432",
   "metadata": {},
   "outputs": [
    {
     "data": {
      "text/plain": [
       "0         Entry\n",
       "1         Entry\n",
       "2        Senior\n",
       "3        Senior\n",
       "4        Senior\n",
       "          ...  \n",
       "38368    Senior\n",
       "38369       Mid\n",
       "38370     Entry\n",
       "38371     Entry\n",
       "38372    Senior\n",
       "Name: experience_level, Length: 38373, dtype: object"
      ]
     },
     "execution_count": 30,
     "metadata": {},
     "output_type": "execute_result"
    }
   ],
   "source": [
    "salary_data.experience_level"
   ]
  },
  {
   "cell_type": "markdown",
   "id": "c2b9a04c",
   "metadata": {},
   "source": [
    "##### company_size\t"
   ]
  },
  {
   "cell_type": "code",
   "execution_count": 31,
   "id": "23264d39",
   "metadata": {},
   "outputs": [
    {
     "data": {
      "text/plain": [
       "Medium    3309\n",
       "Large      479\n",
       "Small      163\n",
       "Name: company_size, dtype: int64"
      ]
     },
     "execution_count": 31,
     "metadata": {},
     "output_type": "execute_result"
    }
   ],
   "source": [
    "salary_data.company_size[:3951].value_counts()"
   ]
  },
  {
   "cell_type": "code",
   "execution_count": 32,
   "id": "d12aa8b6",
   "metadata": {},
   "outputs": [
    {
     "data": {
      "text/plain": [
       "M    32831\n",
       "L     1392\n",
       "S      199\n",
       "Name: company_size, dtype: int64"
      ]
     },
     "execution_count": 32,
     "metadata": {},
     "output_type": "execute_result"
    }
   ],
   "source": [
    "salary_data.company_size[3951:].value_counts()"
   ]
  },
  {
   "cell_type": "code",
   "execution_count": 33,
   "id": "46ba4084",
   "metadata": {},
   "outputs": [
    {
     "name": "stderr",
     "output_type": "stream",
     "text": [
      "/tmp/ipykernel_6449/3761282728.py:2: SettingWithCopyWarning: \n",
      "A value is trying to be set on a copy of a slice from a DataFrame\n",
      "\n",
      "See the caveats in the documentation: https://pandas.pydata.org/pandas-docs/stable/user_guide/indexing.html#returning-a-view-versus-a-copy\n",
      "  salary_data.company_size[3951:]=salary_data.company_size[3951:].replace({'M':'Medium','L':'Large', 'S':'Small'})\n"
     ]
    }
   ],
   "source": [
    "# Replace 'M' with 'Medium','L' with 'Large', and 's' with 'Small'\n",
    "salary_data.company_size[3951:]=salary_data.company_size[3951:].replace({'M':'Medium','L':'Large', 'S':'Small'})"
   ]
  },
  {
   "cell_type": "code",
   "execution_count": 34,
   "id": "b1fea2d1",
   "metadata": {},
   "outputs": [
    {
     "data": {
      "text/plain": [
       "0         Large\n",
       "1        Medium\n",
       "2         Small\n",
       "3        Medium\n",
       "4        Medium\n",
       "          ...  \n",
       "38368     Large\n",
       "38369     Large\n",
       "38370     Small\n",
       "38371     Large\n",
       "38372     Large\n",
       "Name: company_size, Length: 38373, dtype: object"
      ]
     },
     "execution_count": 34,
     "metadata": {},
     "output_type": "execute_result"
    }
   ],
   "source": [
    "salary_data.company_size"
   ]
  },
  {
   "cell_type": "markdown",
   "id": "d13070fc",
   "metadata": {},
   "source": [
    "##### Employee residency"
   ]
  },
  {
   "cell_type": "markdown",
   "id": "552eefb7",
   "metadata": {},
   "source": [
    "The countries in the first data are written with their full name and the countries in the second data are written with their acronyms. Changing the acronyms with their corresposnding full names will be a great way to handle the \"employee residence\" and \"company location\" columns. However, as they are way too many countries, we will do that for only the 35 most  represented countries in the entire data set."
   ]
  },
  {
   "cell_type": "code",
   "execution_count": 35,
   "id": "36c4fff2",
   "metadata": {},
   "outputs": [
    {
     "data": {
      "text/plain": [
       "US    31161\n",
       "GB     1061\n",
       "CA     1009\n",
       "ES      143\n",
       "DE      132\n",
       "IN       95\n",
       "FR       82\n",
       "AU       78\n",
       "NL       51\n",
       "BR       35\n",
       "PT       34\n",
       "IT       29\n",
       "IE       28\n",
       "LT       28\n",
       "ZA       27\n",
       "EG       26\n",
       "AR       25\n",
       "MX       22\n",
       "PL       19\n",
       "TR       19\n",
       "GR       17\n",
       "LV       16\n",
       "NZ       16\n",
       "CO       16\n",
       "PH       15\n",
       "UA       14\n",
       "NG       12\n",
       "AT       12\n",
       "EE       11\n",
       "FI        9\n",
       "Name: employee_residence, dtype: int64"
      ]
     },
     "execution_count": 35,
     "metadata": {},
     "output_type": "execute_result"
    }
   ],
   "source": [
    "salary_data.employee_residence[3951:].value_counts()[:30]"
   ]
  },
  {
   "cell_type": "code",
   "execution_count": 36,
   "id": "036d0e8b",
   "metadata": {},
   "outputs": [
    {
     "name": "stderr",
     "output_type": "stream",
     "text": [
      "/tmp/ipykernel_6449/1501317819.py:1: SettingWithCopyWarning: \n",
      "A value is trying to be set on a copy of a slice from a DataFrame\n",
      "\n",
      "See the caveats in the documentation: https://pandas.pydata.org/pandas-docs/stable/user_guide/indexing.html#returning-a-view-versus-a-copy\n",
      "  salary_data.employee_residence[3951:]=salary_data.employee_residence[3951:].replace({'US':'United States','GB':'United Kingdom', 'CA':'Canada',\n"
     ]
    }
   ],
   "source": [
    "salary_data.employee_residence[3951:]=salary_data.employee_residence[3951:].replace({'US':'United States','GB':'United Kingdom', 'CA':'Canada',\n",
    "                                                                                  'ES':'Spain','DE':'Germany', 'IN':'India',\n",
    "                                                                                    'FR':'France','AU':'Australia', 'NL':'Netherlands',\n",
    "                                                                                    'BR':'Brazil','PT':'Portugal', 'IT':'Italy',\n",
    "                                                                                    'IE':'Ireland','LT':'LIthuania', 'ZA':'South Africa',\n",
    "                                                                                    'EG':'Egypt','AR':'Argentina', 'MX':'Mexico',\n",
    "                                                                                    'PL':'Poland','TR':'Turkey', 'GR':'Greece',\n",
    "                                                                                    'LV':'Latvia','NZ':'New Zealand', 'CO':'Colombia',\n",
    "                                                                                    'PH':'Philippines','UA':'United Arab Emirates', 'NG':'Nigeria','CH':'China',\n",
    "                                                                                    'AT':'Austria','EE':'Estonia', 'FI':'Finland','BE':'Belgium', 'GA':'Ghana'})"
   ]
  },
  {
   "cell_type": "code",
   "execution_count": 37,
   "id": "c87e85f0",
   "metadata": {},
   "outputs": [
    {
     "data": {
      "text/plain": [
       "United States     34125\n",
       "United Kingdom     1348\n",
       "Canada             1153\n",
       "Spain               201\n",
       "Germany             195\n",
       "                  ...  \n",
       "Luxembourg            1\n",
       "Malta                 1\n",
       "BM                    1\n",
       "OM                    1\n",
       "JE                    1\n",
       "Name: employee_residence, Length: 144, dtype: int64"
      ]
     },
     "execution_count": 37,
     "metadata": {},
     "output_type": "execute_result"
    }
   ],
   "source": [
    "salary_data.employee_residence.value_counts()"
   ]
  },
  {
   "cell_type": "markdown",
   "id": "15abed66",
   "metadata": {},
   "source": [
    "##### company_location"
   ]
  },
  {
   "cell_type": "code",
   "execution_count": 38,
   "id": "775b91a7",
   "metadata": {},
   "outputs": [
    {
     "data": {
      "text/plain": [
       "US    31212\n",
       "GB     1069\n",
       "CA     1011\n",
       "ES      139\n",
       "DE      139\n",
       "AU       81\n",
       "IN       79\n",
       "FR       78\n",
       "NL       51\n",
       "BR       33\n",
       "PT       32\n",
       "LT       28\n",
       "IE       28\n",
       "ZA       27\n",
       "EG       25\n",
       "MX       23\n",
       "IT       22\n",
       "AR       21\n",
       "PL       19\n",
       "TR       17\n",
       "LV       16\n",
       "NZ       16\n",
       "CO       16\n",
       "GR       15\n",
       "AT       12\n",
       "EE       12\n",
       "PH       12\n",
       "UA       12\n",
       "FI       10\n",
       "NG        9\n",
       "Name: company_location, dtype: int64"
      ]
     },
     "execution_count": 38,
     "metadata": {},
     "output_type": "execute_result"
    }
   ],
   "source": [
    "salary_data.company_location[3951:].value_counts()[:30]"
   ]
  },
  {
   "cell_type": "code",
   "execution_count": 39,
   "id": "e5f9e488",
   "metadata": {},
   "outputs": [
    {
     "name": "stderr",
     "output_type": "stream",
     "text": [
      "/tmp/ipykernel_6449/2734918442.py:1: SettingWithCopyWarning: \n",
      "A value is trying to be set on a copy of a slice from a DataFrame\n",
      "\n",
      "See the caveats in the documentation: https://pandas.pydata.org/pandas-docs/stable/user_guide/indexing.html#returning-a-view-versus-a-copy\n",
      "  salary_data.company_location[3951:]=salary_data.company_location[3951:].replace({'US':'United States','GB':'United Kingdom', 'CA':'Canada',\n"
     ]
    }
   ],
   "source": [
    "salary_data.company_location[3951:]=salary_data.company_location[3951:].replace({'US':'United States','GB':'United Kingdom', 'CA':'Canada',\n",
    "                                                                                  'ES':'Spain','DE':'Germany', 'IN':'India',\n",
    "                                                                                    'FR':'France','AU':'Australia', 'NL':'Netherlands',\n",
    "                                                                                    'BR':'Brazil','PT':'Portugal', 'IT':'Italy',\n",
    "                                                                                    'IE':'Ireland','LT':'LIthuania', 'ZA':'South Africa',\n",
    "                                                                                    'EG':'Egypt','AR':'Argentina', 'MX':'Mexico',\n",
    "                                                                                    'PL':'Poland','TR':'Turkey', 'GR':'Greece',\n",
    "                                                                                    'LV':'Latvia','NZ':'New Zealand', 'CO':'Colombia',\n",
    "                                                                                    'PH':'Philippines','UA':'United Arab Emirates', 'NG':'Nigeria',\n",
    "                                                                                    'AT':'Austria','EE':'Estonia', 'FI':'Finland','BE':'Belgium','CH':'China','GA':'Ghana'})"
   ]
  },
  {
   "cell_type": "code",
   "execution_count": 40,
   "id": "d588ded0",
   "metadata": {},
   "outputs": [
    {
     "data": {
      "text/plain": [
       "United States           34223\n",
       "United Kingdom           1362\n",
       "Canada                   1156\n",
       "Germany                   209\n",
       "Spain                     194\n",
       "                        ...  \n",
       "Iraq                        1\n",
       "Chile                       1\n",
       "Moldova, Republic of        1\n",
       "Malta                       1\n",
       "MD                          1\n",
       "Name: company_location, Length: 121, dtype: int64"
      ]
     },
     "execution_count": 40,
     "metadata": {},
     "output_type": "execute_result"
    }
   ],
   "source": [
    "salary_data.company_location.value_counts()"
   ]
  },
  {
   "cell_type": "code",
   "execution_count": null,
   "id": "12510a7d",
   "metadata": {},
   "outputs": [],
   "source": []
  },
  {
   "cell_type": "markdown",
   "id": "9d5161bf",
   "metadata": {},
   "source": [
    "#### It is time to save the post-cleaned data set in a new csv file"
   ]
  },
  {
   "cell_type": "code",
   "execution_count": 41,
   "id": "34ddd35e",
   "metadata": {},
   "outputs": [],
   "source": [
    "salary_data.to_csv('salary_data_new.csv', index=False)"
   ]
  },
  {
   "cell_type": "code",
   "execution_count": 42,
   "id": "6c007544",
   "metadata": {},
   "outputs": [],
   "source": [
    "salary_data_new=pd.read_csv(\"/home/angelo/Desktop/THINKFUL DATA SCIENCE FLEX/Graded Assignment/Final Capstone Project/salary_data_new.csv\")"
   ]
  },
  {
   "cell_type": "code",
   "execution_count": 43,
   "id": "44e6be03",
   "metadata": {},
   "outputs": [
    {
     "data": {
      "text/html": [
       "<div>\n",
       "<style scoped>\n",
       "    .dataframe tbody tr th:only-of-type {\n",
       "        vertical-align: middle;\n",
       "    }\n",
       "\n",
       "    .dataframe tbody tr th {\n",
       "        vertical-align: top;\n",
       "    }\n",
       "\n",
       "    .dataframe thead th {\n",
       "        text-align: right;\n",
       "    }\n",
       "</style>\n",
       "<table border=\"1\" class=\"dataframe\">\n",
       "  <thead>\n",
       "    <tr style=\"text-align: right;\">\n",
       "      <th></th>\n",
       "      <th>job_title</th>\n",
       "      <th>employment_type</th>\n",
       "      <th>experience_level</th>\n",
       "      <th>salary</th>\n",
       "      <th>salary_currency</th>\n",
       "      <th>company_location</th>\n",
       "      <th>salary_in_usd</th>\n",
       "      <th>employee_residence</th>\n",
       "      <th>company_size</th>\n",
       "      <th>work_year</th>\n",
       "    </tr>\n",
       "  </thead>\n",
       "  <tbody>\n",
       "    <tr>\n",
       "      <th>0</th>\n",
       "      <td>Staff Data Analyst</td>\n",
       "      <td>Contract</td>\n",
       "      <td>Entry</td>\n",
       "      <td>60000</td>\n",
       "      <td>Canadian Dollar</td>\n",
       "      <td>Canada</td>\n",
       "      <td>44753</td>\n",
       "      <td>Canada</td>\n",
       "      <td>Large</td>\n",
       "      <td>2020</td>\n",
       "    </tr>\n",
       "    <tr>\n",
       "      <th>1</th>\n",
       "      <td>AI Engineer</td>\n",
       "      <td>Full-Time</td>\n",
       "      <td>Entry</td>\n",
       "      <td>35000</td>\n",
       "      <td>United States Dollar</td>\n",
       "      <td>Germany</td>\n",
       "      <td>35000</td>\n",
       "      <td>Croatia</td>\n",
       "      <td>Medium</td>\n",
       "      <td>2023</td>\n",
       "    </tr>\n",
       "    <tr>\n",
       "      <th>2</th>\n",
       "      <td>AI Developer</td>\n",
       "      <td>Full-Time</td>\n",
       "      <td>Senior</td>\n",
       "      <td>50000</td>\n",
       "      <td>Euro</td>\n",
       "      <td>Italy</td>\n",
       "      <td>53984</td>\n",
       "      <td>Italy</td>\n",
       "      <td>Small</td>\n",
       "      <td>2023</td>\n",
       "    </tr>\n",
       "    <tr>\n",
       "      <th>3</th>\n",
       "      <td>Machine Learning Engineer</td>\n",
       "      <td>Full-Time</td>\n",
       "      <td>Senior</td>\n",
       "      <td>226600</td>\n",
       "      <td>United States Dollar</td>\n",
       "      <td>United States</td>\n",
       "      <td>226600</td>\n",
       "      <td>United States</td>\n",
       "      <td>Medium</td>\n",
       "      <td>2023</td>\n",
       "    </tr>\n",
       "    <tr>\n",
       "      <th>4</th>\n",
       "      <td>Machine Learning Engineer</td>\n",
       "      <td>Full-Time</td>\n",
       "      <td>Senior</td>\n",
       "      <td>140100</td>\n",
       "      <td>United States Dollar</td>\n",
       "      <td>United States</td>\n",
       "      <td>140100</td>\n",
       "      <td>United States</td>\n",
       "      <td>Medium</td>\n",
       "      <td>2023</td>\n",
       "    </tr>\n",
       "  </tbody>\n",
       "</table>\n",
       "</div>"
      ],
      "text/plain": [
       "                   job_title employment_type experience_level  salary  \\\n",
       "0         Staff Data Analyst        Contract            Entry   60000   \n",
       "1                AI Engineer       Full-Time            Entry   35000   \n",
       "2               AI Developer       Full-Time           Senior   50000   \n",
       "3  Machine Learning Engineer       Full-Time           Senior  226600   \n",
       "4  Machine Learning Engineer       Full-Time           Senior  140100   \n",
       "\n",
       "        salary_currency company_location  salary_in_usd employee_residence  \\\n",
       "0       Canadian Dollar           Canada          44753             Canada   \n",
       "1  United States Dollar          Germany          35000            Croatia   \n",
       "2                  Euro            Italy          53984              Italy   \n",
       "3  United States Dollar    United States         226600      United States   \n",
       "4  United States Dollar    United States         140100      United States   \n",
       "\n",
       "  company_size  work_year  \n",
       "0        Large       2020  \n",
       "1       Medium       2023  \n",
       "2        Small       2023  \n",
       "3       Medium       2023  \n",
       "4       Medium       2023  "
      ]
     },
     "execution_count": 43,
     "metadata": {},
     "output_type": "execute_result"
    }
   ],
   "source": [
    "salary_data_new.head()"
   ]
  },
  {
   "cell_type": "code",
   "execution_count": null,
   "id": "0bf8b394",
   "metadata": {},
   "outputs": [],
   "source": []
  },
  {
   "cell_type": "markdown",
   "id": "4db3d820",
   "metadata": {},
   "source": [
    "## 2. A/B testing case"
   ]
  },
  {
   "cell_type": "markdown",
   "id": "11aad0c3",
   "metadata": {},
   "source": [
    "I've observed that many industry experts start their careers as data analysts and later transition into data scientist roles as they gain more experience. This shift typically requires mastering additional technical skills like machine learning and advanced statistics. \n",
    "\n",
    "While data scientists generally earn more than data analysts, the learning curve can be overwhelming for some, leading them to remain in Data analyst roles. \n",
    "\n",
    "For data analysts curious about whether the salary difference justifies the move, we'll run an A/B test. First, we'll confirm that data scientists earn more on average, and then we'll analyze whether this difference is statistically significant."
   ]
  },
  {
   "cell_type": "markdown",
   "id": "4ee3390a",
   "metadata": {},
   "source": [
    "#### Do Data scientists earn more than Data Analyst On average?"
   ]
  },
  {
   "cell_type": "code",
   "execution_count": 44,
   "id": "54915bf6",
   "metadata": {},
   "outputs": [
    {
     "data": {
      "text/plain": [
       "Data Scientist                          7853\n",
       "Data Engineer                           6628\n",
       "Data Analyst                            4689\n",
       "Machine Learning Engineer               4209\n",
       "Software Engineer                       2429\n",
       "                                        ... \n",
       "Machine Learning Operations Engineer       1\n",
       "AI Data Scientist                          1\n",
       "Data Engineer 2                            1\n",
       "People Data Analyst                        1\n",
       "Marketing Data Scientist                   1\n",
       "Name: job_title, Length: 223, dtype: int64"
      ]
     },
     "execution_count": 44,
     "metadata": {},
     "output_type": "execute_result"
    }
   ],
   "source": [
    "salary_data_new['job_title'].value_counts()"
   ]
  },
  {
   "cell_type": "markdown",
   "id": "f2e84504",
   "metadata": {},
   "source": [
    "##### Average Data analyst salary"
   ]
  },
  {
   "cell_type": "code",
   "execution_count": 45,
   "id": "35b16b28",
   "metadata": {},
   "outputs": [
    {
     "data": {
      "text/plain": [
       "109698.52548517808"
      ]
     },
     "execution_count": 45,
     "metadata": {},
     "output_type": "execute_result"
    }
   ],
   "source": [
    "salary_data_new[salary_data_new['job_title']=='Data Analyst']['salary_in_usd'].mean()"
   ]
  },
  {
   "cell_type": "markdown",
   "id": "438b64e1",
   "metadata": {},
   "source": [
    "##### Average Data Scientist salary"
   ]
  },
  {
   "cell_type": "code",
   "execution_count": 46,
   "id": "e0ded321",
   "metadata": {},
   "outputs": [
    {
     "data": {
      "text/plain": [
       "160130.67133579522"
      ]
     },
     "execution_count": 46,
     "metadata": {},
     "output_type": "execute_result"
    }
   ],
   "source": [
    "salary_data_new[salary_data_new['job_title']=='Data Scientist']['salary_in_usd'].mean()"
   ]
  },
  {
   "cell_type": "markdown",
   "id": "77431e39",
   "metadata": {},
   "source": [
    "#### Answer: Yes, Data scientists earn on average USD 160,000 while Data Analysts earn on average USD 110,000."
   ]
  },
  {
   "cell_type": "code",
   "execution_count": null,
   "id": "4ab9481b",
   "metadata": {},
   "outputs": [],
   "source": []
  },
  {
   "cell_type": "markdown",
   "id": "8ec04098",
   "metadata": {},
   "source": [
    "#### Do data scientists earn significantly more than data analysts??\n",
    "#### Let's run an A/B testing"
   ]
  },
  {
   "cell_type": "markdown",
   "id": "15738070",
   "metadata": {},
   "source": [
    "1. Hypotheses \n",
    "\n",
    "Ho. There is no significant difference in salary between data analysts and data scientist\n",
    "\n",
    "H1. Although being a Data scientist requires more technical knwoledge, the difference in salary is significant enough to make the move from DA to DS."
   ]
  },
  {
   "cell_type": "markdown",
   "id": "d11353dc",
   "metadata": {},
   "source": [
    "2. Methodology: We have two groups \n",
    "\n",
    "Group A (Controled): Data Analyst salaries\n",
    "\n",
    "Goup B (Variance): Data Scientist salaries"
   ]
  },
  {
   "cell_type": "markdown",
   "id": "7f3f6384",
   "metadata": {},
   "source": [
    "3. Metrics\n",
    "\n",
    "In this experiment, we are testing the average yearly salary in USD for Data Analysts and Data Scientist"
   ]
  },
  {
   "cell_type": "markdown",
   "id": "3c8b8e63",
   "metadata": {},
   "source": [
    "##### Analysis of the Datas"
   ]
  },
  {
   "cell_type": "code",
   "execution_count": 47,
   "id": "8af7a6e0",
   "metadata": {},
   "outputs": [
    {
     "data": {
      "text/plain": [
       "count      4689.000000\n",
       "mean     109698.525485\n",
       "std       47344.245969\n",
       "min       15000.000000\n",
       "25%       76200.000000\n",
       "50%      104000.000000\n",
       "75%      137000.000000\n",
       "max      774000.000000\n",
       "Name: salary_in_usd, dtype: float64"
      ]
     },
     "execution_count": 47,
     "metadata": {},
     "output_type": "execute_result"
    }
   ],
   "source": [
    "DA_salary=salary_data_new[salary_data_new['job_title']=='Data Analyst']['salary_in_usd']\n",
    "DA_salary.describe()"
   ]
  },
  {
   "cell_type": "code",
   "execution_count": 48,
   "id": "1d0e8e15",
   "metadata": {},
   "outputs": [
    {
     "data": {
      "text/plain": [
       "count      7853.000000\n",
       "mean     160130.671336\n",
       "std       65190.204661\n",
       "min       16000.000000\n",
       "25%      115000.000000\n",
       "50%      155600.000000\n",
       "75%      199000.000000\n",
       "max      750000.000000\n",
       "Name: salary_in_usd, dtype: float64"
      ]
     },
     "execution_count": 48,
     "metadata": {},
     "output_type": "execute_result"
    }
   ],
   "source": [
    "DS_salary=salary_data_new[salary_data_new['job_title']=='Data Scientist']['salary_in_usd']\n",
    "DS_salary.describe()"
   ]
  },
  {
   "cell_type": "code",
   "execution_count": 49,
   "id": "fc84435f",
   "metadata": {},
   "outputs": [
    {
     "name": "stdout",
     "output_type": "stream",
     "text": [
      "DescribeResult(nobs=4689, minmax=(15000, 774000), mean=109698.52548517808, variance=2241477626.4145055, skewness=1.9595254857130038, kurtosis=17.274488981626916)\n",
      "DescribeResult(nobs=7853, minmax=(16000, 750000), mean=160130.67133579522, variance=4249762783.750728, skewness=0.9102830784286547, kurtosis=4.0636582397604695)\n"
     ]
    },
    {
     "data": {
      "image/png": "[encoded data removed]",
      "text/plain": [
       "<Figure size 640x480 with 1 Axes>"
      ]
     },
     "metadata": {},
     "output_type": "display_data"
    }
   ],
   "source": [
    "# Distribution of salaries in both groups.\n",
    "plt.hist(DA_salary, alpha = .5)\n",
    "plt.hist(DS_salary, alpha = .5)\n",
    "\n",
    "\n",
    "\n",
    "print(stats.describe(DA_salary))\n",
    "print(stats.describe(DS_salary))\n"
   ]
  },
  {
   "cell_type": "markdown",
   "id": "9cef6ecf",
   "metadata": {},
   "source": [
    "The two datas seem to be not normality distributed and the values from the skweness and the kurtosis for both data prove it. Then in this case, the t_test is not going to be relevant here. Instead, let us use a Kruskal-Wallis test."
   ]
  },
  {
   "cell_type": "markdown",
   "id": "6fd7529b",
   "metadata": {},
   "source": [
    "Before applying the Kruskal-Wallis, let's understand how the results will play out.\n",
    "The test typically returns two key metrics. The statistics and the p.value\n",
    "\n",
    "1. H-Statistic (Kruskal-Wallis H):\n",
    "\n",
    "This is the test statistic computed by the Kruskal-Wallis test. It measures the difference in ranks between groups. The higher the H value, the more likely it is that at least one group differs significantly from the others.\n",
    "\n",
    "2. P-Value:\n",
    "\n",
    "The p-value tells you whether the observed differences between groups are statistically significant.\\\n",
    "Interpretation:\\\n",
    "P-value < 0.05: There is a significant difference between the groups.\\\n",
    "P-value ≥ 0.05: There is no statistically significant difference between the groups."
   ]
  },
  {
   "cell_type": "code",
   "execution_count": null,
   "id": "3b41e8eb",
   "metadata": {},
   "outputs": [],
   "source": []
  },
  {
   "cell_type": "code",
   "execution_count": 50,
   "id": "804bd568",
   "metadata": {},
   "outputs": [
    {
     "name": "stdout",
     "output_type": "stream",
     "text": [
      "H-statistic: 2096.3092455237365\n",
      "P-value: 0.0\n",
      "Reject the null hypothesis: There is a significant difference between the salaries.\n"
     ]
    }
   ],
   "source": [
    "H_stat, p_value = stats.kruskal(DA_salary, DS_salary)\n",
    "\n",
    "print(f\"H-statistic: {H_stat}\")\n",
    "print(f\"P-value: {p_value}\")\n",
    "\n",
    "# Check if p-value is significant\n",
    "if p_value < 0.05:\n",
    "    print(\"Reject the null hypothesis: There is a significant difference between the salaries.\")\n",
    "else:\n",
    "    print(\"Fail to reject the null hypothesis: No significant difference found between the salaries.\")"
   ]
  },
  {
   "cell_type": "code",
   "execution_count": 51,
   "id": "f610216e",
   "metadata": {},
   "outputs": [
    {
     "data": {
      "text/plain": [
       "Text(0.5, 1.0, 'Average salaries')"
      ]
     },
     "execution_count": 51,
     "metadata": {},
     "output_type": "execute_result"
    },
    {
     "data": {
      "image/png": "[encoded data removed]",
      "text/plain": [
       "<Figure size 640x480 with 1 Axes>"
      ]
     },
     "metadata": {},
     "output_type": "display_data"
    }
   ],
   "source": [
    "import seaborn as sns\n",
    "\n",
    "g = sns.pointplot(data=[DA_salary, DS_salary], join=False)\n",
    "                        \n",
    "g.set(xticklabels = ['DA_salaries', 'DS_salary'])\n",
    "plt.title(\"Average salaries\")"
   ]
  },
  {
   "cell_type": "markdown",
   "id": "fc19f948",
   "metadata": {},
   "source": [
    "#### Conclusion:  For any Data analyst considering switching to  a Data scientist role, it could be worth doing that because there will be a significant increase of their salaries.  However, it could also totally depends one people tastes, overall experience and companies."
   ]
  },
  {
   "cell_type": "code",
   "execution_count": null,
   "id": "b97f9b72",
   "metadata": {},
   "outputs": [],
   "source": []
  }
 ],
 "metadata": {
  "kernelspec": {
   "display_name": "Python 3 (ipykernel)",
   "language": "python",
   "name": "python3"
  },
  "language_info": {
   "codemirror_mode": {
    "name": "ipython",
    "version": 3
   },
   "file_extension": ".py",
   "mimetype": "text/x-python",
   "name": "python",
   "nbconvert_exporter": "python",
   "pygments_lexer": "ipython3",
   "version": "3.10.12"
  }
 },
 "nbformat": 4,
 "nbformat_minor": 5
}
