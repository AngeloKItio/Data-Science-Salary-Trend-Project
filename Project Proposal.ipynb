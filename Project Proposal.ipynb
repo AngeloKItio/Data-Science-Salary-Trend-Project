{
 "cells": [
  {
   "cell_type": "markdown",
   "id": "2d01d834",
   "metadata": {},
   "source": [
    "### Latest Data Science Salaries\n",
    "#### Problem statement\n",
    "The problem we aim to address is the dynamic nature of data science salaries, which have been evolving rapidly in recent years. As businesses increasingly rely on data-driven decision-making, the demand for skilled data scientists has surged. However, there is limited up-to-date information available on the current state of data science salaries, making it challenging for both job seekers and employers to make informed decisions. This project seeks to analyze the evolution of data science salaries from 2020 to 2023 to provide valuable insights into salary trends within the field.\n",
    "\n",
    "#### Value Proposition\n",
    "Our solution holds several key values:\n",
    "\n",
    "Informed Decision-Making: By analyzing and presenting up-to-date salary data, we empower job seekers to negotiate fair compensation and help employers make competitive salary offers, ultimately contributing to a healthier job market.\\\n",
    "Benchmarking: This project will allow organizations to benchmark their data science salary structures against industry standards, enabling them to attract and retain top talent.\\\n",
    "Program Improvement: By employing advanced data analysis techniques, we aim to identify trends and patterns that can inform academic programs and institutions, improving the alignment between data science curricula and industry demands.\n",
    "\n",
    "#### Data Source and Access\n",
    "Our primary data source will be a combination of publicly available data from job boards, industry reports, and survey data from professional organizations such as the Data Science Association.\n",
    "One interesting dataset has been found on kaggle through the followinf link: \\\n",
    "[Data science salaries](https://www.kaggle.com/datasets/iamsouravbanerjee/data-science-salaries-2023/download?datasetVersionNumber=5) \\\n",
    "The dataset includes information about Job Title (Data scientist, Data engineer and so on), Employment Type, Experience Level, Expertise Level, Salary, Salary Currency, Company Location, Salary in USD, Employee Residence, Company Size, and Year.\n",
    "Additionally, we may conduct some search on social media (LinkedIn, Glassdoor...) to confirm the range of data science salaries we have in the data.\n",
    "\n",
    "#### Anticipated Techniques\n",
    "We anticipate using a range of data science techniques, including:\n",
    "\n",
    "Data Cleaning: Cleaning and preprocessing the collected data to ensure accuracy and consistency.\\\n",
    "Descriptive Statistics: Analyzing salary data using basic statistics to gain initial insights.\\\n",
    "Time Series Analysis: Employing time series analysis to detect salary trends over the specified period.\\\n",
    "Machine Learning: Utilizing machine learning models for predictive analysis, such as forecasting future salary trends based on historical data.\n",
    "\n",
    "#### Anticipated Challenges\n",
    "The biggest challenge we anticipate facing is ensuring data quality and representativeness. Salary data can be sparse and noisy, and biases in the data could lead to inaccurate conclusions.\n",
    "\n",
    "This project proposal outlines our plan to analyze the evolution of data science salaries from 2020 to 2023, addressing a pressing issue in the field. We believe that the insights generated from this analysis will be valuable to a wide range of stakeholders, including job seekers, employers, and educational institutions. We acknowledge the challenges ahead, particularly in ensuring data quality and representativeness, but we are committed to delivering accurate and actionable findings."
   ]
  },
  {
   "cell_type": "code",
   "execution_count": 1,
   "id": "340a4722",
   "metadata": {},
   "outputs": [],
   "source": []
  },
  {
   "cell_type": "code",
   "execution_count": null,
   "id": "67dae564",
   "metadata": {},
   "outputs": [],
   "source": []
  },
  {
   "cell_type": "code",
   "execution_count": null,
   "id": "e4966af3",
   "metadata": {},
   "outputs": [],
   "source": []
  }
 ],
 "metadata": {
  "kernelspec": {
   "display_name": "Python 3 (ipykernel)",
   "language": "python",
   "name": "python3"
  },
  "language_info": {
   "codemirror_mode": {
    "name": "ipython",
    "version": 3
   },
   "file_extension": ".py",
   "mimetype": "text/x-python",
   "name": "python",
   "nbconvert_exporter": "python",
   "pygments_lexer": "ipython3",
   "version": "3.10.12"
  }
 },
 "nbformat": 4,
 "nbformat_minor": 5
}
